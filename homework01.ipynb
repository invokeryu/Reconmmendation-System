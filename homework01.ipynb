{
  "nbformat": 4,
  "nbformat_minor": 0,
  "metadata": {
    "colab": {
      "name": "Untitled0.ipynb",
      "provenance": [],
      "collapsed_sections": [],
      "mount_file_id": "1XjlqYezWgMiySzE57ubrnOaNin_eUgqP",
      "authorship_tag": "ABX9TyOKn82gVQqTxRj+GUlQPOJW",
      "include_colab_link": true
    },
    "kernelspec": {
      "name": "python3",
      "display_name": "Python 3"
    },
    "language_info": {
      "name": "python"
    }
  },
  "cells": [
    {
      "cell_type": "markdown",
      "metadata": {
        "id": "view-in-github",
        "colab_type": "text"
      },
      "source": [
        "<a href=\"https://colab.research.google.com/github/invokeryu/Reconmmendation-System/blob/main/homework01.ipynb\" target=\"_parent\"><img src=\"https://colab.research.google.com/assets/colab-badge.svg\" alt=\"Open In Colab\"/></a>"
      ]
    },
    {
      "cell_type": "code",
      "metadata": {
        "id": "SmG39gjC_ZLx"
      },
      "source": [
        "import pandas as pd\n",
        "import numpy as np\n",
        "from sklearn.model_selection import train_test_split\n",
        "from sklearn.metrics import mean_absolute_error\n",
        "data = pd.read_csv('./drive/MyDrive/推荐系统前沿作业/u.data',sep='\\t',header=None) # 没有列名\n",
        "# 去除最后一列\n",
        "data = data.iloc[:,0:3]"
      ],
      "execution_count": null,
      "outputs": []
    },
    {
      "cell_type": "code",
      "metadata": {
        "colab": {
          "base_uri": "https://localhost:8080/",
          "height": 476
        },
        "id": "a-i65LZuVv2y",
        "outputId": "8eb5c64d-1daa-48b4-d6de-c52bea728a6c"
      },
      "source": [
        "data"
      ],
      "execution_count": null,
      "outputs": [
        {
          "output_type": "execute_result",
          "data": {
            "text/html": [
              "<div>\n",
              "<style scoped>\n",
              "    .dataframe tbody tr th:only-of-type {\n",
              "        vertical-align: middle;\n",
              "    }\n",
              "\n",
              "    .dataframe tbody tr th {\n",
              "        vertical-align: top;\n",
              "    }\n",
              "\n",
              "    .dataframe thead th {\n",
              "        text-align: right;\n",
              "    }\n",
              "</style>\n",
              "<table border=\"1\" class=\"dataframe\">\n",
              "  <thead>\n",
              "    <tr style=\"text-align: right;\">\n",
              "      <th></th>\n",
              "      <th>0</th>\n",
              "      <th>1</th>\n",
              "      <th>2</th>\n",
              "    </tr>\n",
              "  </thead>\n",
              "  <tbody>\n",
              "    <tr>\n",
              "      <th>0</th>\n",
              "      <td>196</td>\n",
              "      <td>242</td>\n",
              "      <td>3</td>\n",
              "    </tr>\n",
              "    <tr>\n",
              "      <th>1</th>\n",
              "      <td>186</td>\n",
              "      <td>302</td>\n",
              "      <td>3</td>\n",
              "    </tr>\n",
              "    <tr>\n",
              "      <th>2</th>\n",
              "      <td>22</td>\n",
              "      <td>377</td>\n",
              "      <td>1</td>\n",
              "    </tr>\n",
              "    <tr>\n",
              "      <th>3</th>\n",
              "      <td>244</td>\n",
              "      <td>51</td>\n",
              "      <td>2</td>\n",
              "    </tr>\n",
              "    <tr>\n",
              "      <th>4</th>\n",
              "      <td>166</td>\n",
              "      <td>346</td>\n",
              "      <td>1</td>\n",
              "    </tr>\n",
              "    <tr>\n",
              "      <th>...</th>\n",
              "      <td>...</td>\n",
              "      <td>...</td>\n",
              "      <td>...</td>\n",
              "    </tr>\n",
              "    <tr>\n",
              "      <th>99995</th>\n",
              "      <td>880</td>\n",
              "      <td>476</td>\n",
              "      <td>3</td>\n",
              "    </tr>\n",
              "    <tr>\n",
              "      <th>99996</th>\n",
              "      <td>716</td>\n",
              "      <td>204</td>\n",
              "      <td>5</td>\n",
              "    </tr>\n",
              "    <tr>\n",
              "      <th>99997</th>\n",
              "      <td>276</td>\n",
              "      <td>1090</td>\n",
              "      <td>1</td>\n",
              "    </tr>\n",
              "    <tr>\n",
              "      <th>99998</th>\n",
              "      <td>13</td>\n",
              "      <td>225</td>\n",
              "      <td>2</td>\n",
              "    </tr>\n",
              "    <tr>\n",
              "      <th>99999</th>\n",
              "      <td>12</td>\n",
              "      <td>203</td>\n",
              "      <td>3</td>\n",
              "    </tr>\n",
              "  </tbody>\n",
              "</table>\n",
              "<p>100000 rows × 3 columns</p>\n",
              "</div>"
            ],
            "text/plain": [
              "         0     1  2\n",
              "0      196   242  3\n",
              "1      186   302  3\n",
              "2       22   377  1\n",
              "3      244    51  2\n",
              "4      166   346  1\n",
              "...    ...   ... ..\n",
              "99995  880   476  3\n",
              "99996  716   204  5\n",
              "99997  276  1090  1\n",
              "99998   13   225  2\n",
              "99999   12   203  3\n",
              "\n",
              "[100000 rows x 3 columns]"
            ]
          },
          "metadata": {
            "tags": []
          },
          "execution_count": 36
        }
      ]
    },
    {
      "cell_type": "code",
      "metadata": {
        "id": "1GTFnyeCWX_F"
      },
      "source": [
        "data.columns = ['u_id','m_id','rating']"
      ],
      "execution_count": null,
      "outputs": []
    },
    {
      "cell_type": "code",
      "metadata": {
        "id": "P4PbPt82Wh7B"
      },
      "source": [
        "data = data.values"
      ],
      "execution_count": null,
      "outputs": []
    },
    {
      "cell_type": "code",
      "metadata": {
        "id": "P-kMB-M-WxNp"
      },
      "source": [
        "N = np.max(data[:,0])+1 # 用户数\n",
        "M = np.max(data[:,1])+1 # 电影数\n",
        "# 划分训练集\n",
        "train_set,test_set = train_test_split(data,train_size=0.8)\n",
        "# 定义训练参数\n",
        "K = 10 # 潜因子个数\n",
        "max_iter = 100 # 100次迭代\n",
        "learning_rate = 0.005\n",
        "# 定义正则项系数lambda\n",
        "lambda_regular = 0.1"
      ],
      "execution_count": null,
      "outputs": []
    },
    {
      "cell_type": "code",
      "metadata": {
        "id": "q60nztkmXFK3"
      },
      "source": [
        "# 初始化U,V矩阵\n",
        "U = np.random.normal(0,0.1,(N,K))\n",
        "V = np.random.normal(0,0.1,(M,K))"
      ],
      "execution_count": null,
      "outputs": []
    },
    {
      "cell_type": "code",
      "metadata": {
        "colab": {
          "base_uri": "https://localhost:8080/"
        },
        "id": "kT3z1dz1aFgZ",
        "outputId": "8a001e39-987f-4e69-ac93-dda0dab30e88"
      },
      "source": [
        "## 进行训练\n",
        "train_loss_all = []\n",
        "val_loss_all = []\n",
        "for epoch in range(max_iter):\n",
        "  train_loss=  0.0\n",
        "  val_loss = 0.0 \n",
        "  val_mae=0.0\n",
        "  for data in train_set:\n",
        "    u_id = data[0] # 用户id\n",
        "    m_id  = data[1] # 电影id\n",
        "    r = data[2] # 评分\n",
        "    # print(u_id,m_id,r)\n",
        "    # 获取模型的输出\n",
        "    p = U[u_id]\n",
        "    q = V[m_id]\n",
        "    output = np.dot(p,q.T)\n",
        "    # 误差\n",
        "    error = r-output\n",
        "    # 优化的目标函数\n",
        "    los = 0.5*(error**2 + lambda_regular*(np.square(p).sum() + np.square(q).sum()))\n",
        "    # 计算梯度，更新U,V\n",
        "    U[u_id] = p + learning_rate*(error*q - lambda_regular*p)\n",
        "    V[m_id] = q + learning_rate*(error*p - lambda_regular*q)\n",
        "    train_loss += los\n",
        "  train_loss_all.append(train_loss)\n",
        "  if epoch % 10 ==0:\n",
        "    print(epoch,train_loss)\n",
        "    \n",
        "  for data in test_set:\n",
        "    u_id = data[0]\n",
        "    m_id = data[1]\n",
        "    r = data[2]\n",
        "    output = np.dot(U[u_id],V[m_id])\n",
        "    # 误差\n",
        "    error = r-output\n",
        "    # 优化的目标函数\n",
        "    los = 0.5*(error**2 + lambda_regular*(np.square(p).sum() + np.square(q).sum()))\n",
        "    val_loss += los\n",
        "  val_loss_all.append(val_loss)\n",
        "  if epoch % 10 == 0:\n",
        "    print(epoch,val_loss)\n",
        "    "
      ],
      "execution_count": null,
      "outputs": [
        {
          "output_type": "stream",
          "text": [
            "0 550416.3525283333\n",
            "0 135438.5696759103\n",
            "10 65463.84007773531\n",
            "10 19052.76159677484\n",
            "20 62780.184939298306\n",
            "20 18448.036433531688\n",
            "30 61508.54405490894\n",
            "30 18219.736308122276\n",
            "40 60661.10241315535\n",
            "40 18105.112794767952\n",
            "50 59991.2348303647\n",
            "50 18056.065479089328\n",
            "60 59442.73507558279\n",
            "60 18056.9326317206\n",
            "70 59011.31360688635\n",
            "70 18092.904547487815\n",
            "80 58682.120515659015\n",
            "80 18149.269827630113\n",
            "90 58433.77427283391\n",
            "90 18215.42972922449\n"
          ],
          "name": "stdout"
        }
      ]
    },
    {
      "cell_type": "code",
      "metadata": {
        "colab": {
          "base_uri": "https://localhost:8080/",
          "height": 335
        },
        "id": "C9enrfBgcJFs",
        "outputId": "c120871b-4956-4c7a-d503-a1fef6aeb413"
      },
      "source": [
        "import matplotlib.pyplot as plt\n",
        "x = range(len(train_loss_all))\n",
        "x = np.array(x)\n",
        "plt.figure(figsize = (12,5))\n",
        "plt.subplot(1,2,1)\n",
        "plt.plot(x,train_loss_all,'g',linewidth=3)\n",
        "plt.xlabel('Iteration')\n",
        "plt.ylabel('train loss')\n",
        "plt.subplot(1,2,2)\n",
        "x2 = range(len(val_loss_all))\n",
        "x2 = np.array(x2)\n",
        "plt.plot(x2,val_loss_all,'r',linewidth = 3)\n",
        "plt.xlabel('Iteration')\n",
        "plt.ylabel('val loss')\n",
        "plt.show()\n"
      ],
      "execution_count": null,
      "outputs": [
        {
          "output_type": "display_data",
          "data": {
            "image/png": "[encoded data removed]",
            "text/plain": [
              "<Figure size 864x360 with 2 Axes>"
            ]
          },
          "metadata": {
            "tags": [],
            "needs_background": "light"
          }
        }
      ]
    },
    {
      "cell_type": "code",
      "metadata": {
        "id": "ToW4ho8bs9Xv"
      },
      "source": [
        "W"
      ],
      "execution_count": null,
      "outputs": []
    }
  ]
}