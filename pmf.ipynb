{
  "nbformat": 4,
  "nbformat_minor": 0,
  "metadata": {
    "colab": {
      "name": "Untitled1.ipynb",
      "provenance": [],
      "collapsed_sections": [],
      "mount_file_id": "1zpG8yWnGpZ1OQ4KfY2j-nhJr0kFDPMPL",
      "authorship_tag": "ABX9TyNAUP8CN/OIKbdexkB+Sg3i",
      "include_colab_link": true
    },
    "kernelspec": {
      "name": "python3",
      "display_name": "Python 3"
    },
    "language_info": {
      "name": "python"
    }
  },
  "cells": [
    {
      "cell_type": "markdown",
      "metadata": {
        "id": "view-in-github",
        "colab_type": "text"
      },
      "source": [
        "<a href=\"https://colab.research.google.com/github/invokeryu/Reconmmendation-System/blob/main/pmf.ipynb\" target=\"_parent\"><img src=\"https://colab.research.google.com/assets/colab-badge.svg\" alt=\"Open In Colab\"/></a>"
      ]
    },
    {
      "cell_type": "code",
      "metadata": {
        "id": "QqW3B62HVjfo"
      },
      "source": [
        "import numpy as np\n",
        "import random\n",
        "from sklearn.model_selection import train_test_split\n",
        "import pandas as pd\n",
        "\n",
        "class pmf():\n",
        "    def __init__(self, \n",
        "          train_list,            # train_list: train data \n",
        "          test_list,             # test_list: test data\n",
        "          N,                     # N:the number of user\n",
        "          M,                     # M:the number of item\n",
        "          K=10,                  # K: the number of latent factor\n",
        "          learning_rate=0.001,   # learning_rate: the learning rata\n",
        "          lamda_regularizer=0.1, # lamda_regularizer: regularization parameters\n",
        "          max_iteration=50       # max_iteration: the max iteration\n",
        "        ):\n",
        "        self.train_list = train_list\n",
        "        self.test_list = test_list\n",
        "        self.N = N\n",
        "        self.M = M\n",
        "        self.K = K\n",
        "        self.learning_rate = learning_rate\n",
        "        self.lamda_regularizer = lamda_regularizer\n",
        "        self.max_iteration = max_iteration\n",
        "    \n",
        "    \n",
        "    def train(self):\n",
        "        P = np.random.normal(0, 0.1, (self.N, self.K))\n",
        "        Q = np.random.normal(0, 0.1, (self.M, self.K))\n",
        "\n",
        "        train_mat = sequence2mat(sequence = self.train_list, N = self.N, M = self.M)\n",
        "        test_mat = sequence2mat(sequence = self.test_list, N = self.N, M = self.M)\n",
        "\n",
        "        records_list = []\n",
        "        for step in range(self.max_iteration):\n",
        "            los=0.0\n",
        "            for data in self.train_list:\n",
        "                u,i,r = data\n",
        "                P[u],Q[i],ls = self.update(P[u], Q[i], r=r, \n",
        "                                           learning_rate=self.learning_rate, \n",
        "                                           lamda_regularizer=self.lamda_regularizer)\n",
        "                los += ls\n",
        "                \n",
        "            pred_mat = self.prediction(P,Q)\n",
        "            mae, rmse, recall, precision = evaluation(pred_mat, train_mat, test_mat)\n",
        "            records_list.append(np.array([los, mae, rmse, recall, precision]))\n",
        "\n",
        "            if step % 10 ==0:\n",
        "                print(' step:%d \\n loss:%.4f,mae:%.4f,rmse:%.4f,recall:%.4f,precision:%.4f'\n",
        "                      %(step,los,mae,rmse,recall,precision))\n",
        "\n",
        "        print(' end. \\n loss:%.4f,mae:%.4f,rmse:%.4f,recall:%.4f,precision:%.4f'\n",
        "              %(records_list[-1][0],records_list[-1][1],records_list[-1][2],records_list[-1][3],records_list[-1][4]))\n",
        "\n",
        "        return P, Q, np.array(records_list)\n",
        "\n",
        "\n",
        "    def update(self, p, q, r, learning_rate=0.001, lamda_regularizer=0.1):\n",
        "        error = r - np.dot(p, q.T)            \n",
        "        p = p + learning_rate*(error*q - lamda_regularizer*p)\n",
        "        q = q + learning_rate*(error*p - lamda_regularizer*q)\n",
        "        loss = 0.5 * (error**2 + lamda_regularizer*(np.square(p).sum() + np.square(q).sum()))\n",
        "        return p, q, loss\n",
        "\n",
        "\n",
        "    def prediction(self, P, Q):\n",
        "        N,K = P.shape\n",
        "        M,K = Q.shape\n",
        "\n",
        "        rating_list=[]\n",
        "        for u in range(N):\n",
        "            u_rating = np.sum(P[u,:]*Q, axis=1)\n",
        "            rating_list.append(u_rating)\n",
        "        r_pred = np.array(rating_list)\n",
        "        return r_pred"
      ],
      "execution_count": null,
      "outputs": []
    },
    {
      "cell_type": "code",
      "metadata": {
        "id": "3H0qIs5tV6Oc"
      },
      "source": [
        "def load_data(file_dir):\n",
        "    # output: \n",
        "    # N: the number of user;\n",
        "    # M: the number of item\n",
        "    # data: the list of rating information\n",
        "    user_ids_dict, rated_item_ids_dict = {},{}\n",
        "    N, M, u_idx, i_idx = 0,0,0,0 \n",
        "    data = []\n",
        "    f = open(file_dir)\n",
        "    for line in f.readlines():\n",
        "        if '::' in line:\n",
        "            u, i, r, _ = line.split('::')\n",
        "        else:\n",
        "            u, i, r, _ = line.split()\n",
        "    \n",
        "        if int(u) not in user_ids_dict:\n",
        "            user_ids_dict[int(u)]=u_idx\n",
        "            u_idx+=1\n",
        "        if int(i) not in rated_item_ids_dict:\n",
        "            rated_item_ids_dict[int(i)]=i_idx\n",
        "            i_idx+=1\n",
        "        data.append([user_ids_dict[int(u)],rated_item_ids_dict[int(i)],float(r)])\n",
        "    \n",
        "    f.close()\n",
        "    N = u_idx\n",
        "    M = i_idx\n",
        "\n",
        "    return N, M, data, rated_item_ids_dict\n",
        "\t\n",
        "\n",
        "def sequence2mat(sequence, N, M):\n",
        "    # input:\n",
        "    # sequence: the list of rating information\n",
        "    # N: row number, i.e. the number of users\n",
        "    # M: column number, i.e. the number of items\n",
        "    # output:\n",
        "    # mat: user-item rating matrix\n",
        "    records_array = np.array(sequence)\n",
        "    mat = np.zeros([N,M])\n",
        "    row = records_array[:,0].astype(int)\n",
        "    col = records_array[:,1].astype(int)\n",
        "    values = records_array[:,2].astype(np.float32)\n",
        "    mat[row,col]=values\n",
        "    \n",
        "    return mat\n"
      ],
      "execution_count": null,
      "outputs": []
    },
    {
      "cell_type": "code",
      "metadata": {
        "colab": {
          "base_uri": "https://localhost:8080/"
        },
        "id": "DrT0mR78XK_6",
        "outputId": "08dde00b-05cd-47dd-aa05-f022cebdc89b"
      },
      "source": [
        "data_dir = '/content/drive/MyDrive/推荐系统前沿作业/u.data'\n",
        "     \n",
        "N, M, data_list, _ = load_data(file_dir=data_dir)\n",
        "train_list, test_list = train_test_split(data_list,test_size=0.2)\n",
        "print ('train length: %d \\n test length: %d' %(len(train_list),len(test_list)))\n",
        "\n",
        "learning_rate = 0.005\n",
        "lamda_regularizer = 0.1\n",
        "max_iteration = 100\n",
        "K = 10"
      ],
      "execution_count": null,
      "outputs": [
        {
          "output_type": "stream",
          "text": [
            "train length: 80000 \n",
            " test length: 20000\n"
          ],
          "name": "stdout"
        }
      ]
    },
    {
      "cell_type": "code",
      "metadata": {
        "colab": {
          "base_uri": "https://localhost:8080/",
          "height": 1000
        },
        "id": "8gvKQYdYWhHO",
        "outputId": "89876710-abc8-4299-ecb1-6d18b38082ee"
      },
      "source": [
        "model = pmf(train_list=train_list, \n",
        "            test_list=test_list, \n",
        "            N=N, \n",
        "            M=M,\n",
        "            K=K,\n",
        "            learning_rate=learning_rate, \n",
        "            lamda_regularizer=lamda_regularizer, \n",
        "            max_iteration=max_iteration)\n",
        "P, Q, records_array = model.train()\n",
        "figure(values_list=records_array[:,0],name='loss')\n",
        "figure(values_list=records_array[:,1],name='MAE')"
      ],
      "execution_count": null,
      "outputs": [
        {
          "output_type": "stream",
          "text": [
            " step:0 \n",
            " loss:549112.7440,mae:3.5299,rmse:3.7069,recall:0.0110,precision:0.0233\n",
            " step:10 \n",
            " loss:65332.1059,mae:0.7851,rmse:0.9985,recall:0.0396,precision:0.0839\n",
            " step:20 \n",
            " loss:62402.3403,mae:0.7597,rmse:0.9602,recall:0.0396,precision:0.0840\n",
            " step:30 \n",
            " loss:61182.1163,mae:0.7477,rmse:0.9442,recall:0.0393,precision:0.0832\n",
            " step:40 \n",
            " loss:60375.6818,mae:0.7407,rmse:0.9354,recall:0.0393,precision:0.0834\n",
            " step:50 \n",
            " loss:59758.8548,mae:0.7361,rmse:0.9301,recall:0.0392,precision:0.0831\n",
            " step:60 \n",
            " loss:59277.1088,mae:0.7333,rmse:0.9272,recall:0.0372,precision:0.0790\n",
            " step:70 \n",
            " loss:58898.3403,mae:0.7318,rmse:0.9258,recall:0.0357,precision:0.0756\n",
            " step:80 \n",
            " loss:58602.0456,mae:0.7311,rmse:0.9252,recall:0.0342,precision:0.0725\n",
            " step:90 \n",
            " loss:58372.4596,mae:0.7307,rmse:0.9250,recall:0.0330,precision:0.0699\n",
            " end. \n",
            " loss:58210.8595,mae:0.7305,rmse:0.9251,recall:0.0320,precision:0.0679\n"
          ],
          "name": "stdout"
        },
        {
          "output_type": "display_data",
          "data": {
            "image/png": "[encoded data removed]",
            "text/plain": [
              "<Figure size 432x288 with 1 Axes>"
            ]
          },
          "metadata": {
            "tags": [],
            "needs_background": "light"
          }
        },
        {
          "output_type": "display_data",
          "data": {
            "image/png": "[encoded data removed]",
            "text/plain": [
              "<Figure size 432x288 with 1 Axes>"
            ]
          },
          "metadata": {
            "tags": [],
            "needs_background": "light"
          }
        }
      ]
    },
    {
      "cell_type": "code",
      "metadata": {
        "id": "RuJFd3vKW6UR"
      },
      "source": [
        "import numpy as np\n",
        "from sklearn.metrics import mean_absolute_error, mean_squared_error\n",
        "from pylab import *\n",
        "import matplotlib\n",
        "import matplotlib.pyplot as plt\n",
        "\n",
        "def get_topn(r_pred, train_mat, n=10):\n",
        "    unrated_items = r_pred * (train_mat==0)\n",
        "    idx = np.argsort(-unrated_items)\n",
        "    return idx[:,:n]\n",
        "\n",
        "\n",
        "def recall_precision(topn, test_mat):\n",
        "    n,m = test_mat.shape\n",
        "    hits,total_pred,total_true = 0.,0.,0.\n",
        "    for u in range(n):\n",
        "        hits += len([i for i in topn[u,:] if test_mat[u,i]>0])\n",
        "        size_pred = len(topn[u,:])\n",
        "        size_true = np.sum(test_mat[u,:]>0,axis=0)\n",
        "        total_pred += size_pred\n",
        "        total_true += size_true\n",
        "\n",
        "    recall = hits/total_true\n",
        "    precision = hits/total_pred\n",
        "    return recall, precision\t\n",
        "\t\n",
        "\t\n",
        "def mae_rmse(r_pred, test_mat):\n",
        "    y_pred = r_pred[test_mat>0]\n",
        "    y_true = test_mat[test_mat>0]\n",
        "    mae = mean_absolute_error(y_true, y_pred)\n",
        "    rmse = np.sqrt(mean_squared_error(y_true, y_pred))\n",
        "    return mae, rmse \n",
        "\n",
        "\n",
        "def evaluation(pred_mat, train_mat, test_mat):\n",
        "    topn = get_topn(pred_mat, train_mat, n=10)\n",
        "    mae, rmse = mae_rmse(pred_mat, test_mat)\n",
        "    recall, precision = recall_precision(topn, test_mat)\n",
        "    return mae, rmse, recall, precision\n",
        "\t\n",
        "\t\n",
        "def get_hit(ranklist,rated_item):\n",
        "    result = 0\n",
        "    for item in ranklist:\n",
        "        if item==rated_item:\n",
        "            result = 1\n",
        "    return result\n",
        "    \n",
        "    \n",
        "def get_ndcg(ranklist,rated_item):\n",
        "    result = 0\n",
        "    for i in range(len(ranklist)):\n",
        "        item = ranklist[i]\n",
        "        if item==rated_item:\n",
        "            result = math.log(2)/math.log(i+2)\n",
        "    return result\n",
        "\n",
        "\n",
        "def hit_ndcg(test_sequence, ranklist):\n",
        "    length = len(test_sequence)\n",
        "    hits,ndcgs=[],[]\n",
        "    for idx in range(length):\n",
        "        user = test_sequence[idx,0].astype(np.int32)\n",
        "        rated_item = test_sequence[idx,1].astype(np.int32)\n",
        "        hr = get_hit(ranklist[user],rated_item)\n",
        "        ndcg = get_ndcg(ranklist[user],rated_item)\n",
        "        hits.append(hr)\n",
        "        ndcgs.append(ndcg)\n",
        "    #hr,ndcg = np.array(hits).mean(),np.array(ndcgs).mean()\n",
        "    return hits,ndcgs\t\n",
        "\t\n",
        "\t\n",
        "def figure(values_list, name=''):\n",
        "    fig=plt.figure(name)\n",
        "    x = range(len(values_list))\n",
        "    plot(x, values_list, color='g',linewidth=3)\n",
        "    plt.title(name + ' curve')\n",
        "    plt.xlabel('Iterations')\n",
        "    plt.ylabel(name)\n",
        "    show()"
      ],
      "execution_count": null,
      "outputs": []
    },
    {
      "cell_type": "code",
      "metadata": {
        "id": "BPYSfWd3hJCp"
      },
      "source": [
        ""
      ],
      "execution_count": null,
      "outputs": []
    }
  ]
}